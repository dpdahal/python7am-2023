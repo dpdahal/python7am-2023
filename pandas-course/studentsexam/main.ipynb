{
 "cells": [
  {
   "cell_type": "code",
   "execution_count": 30,
   "metadata": {},
   "outputs": [
    {
     "name": "stdout",
     "output_type": "stream",
     "text": [
      "0\n",
      "2\n",
      "4\n",
      "6\n",
      "8\n",
      "10\n"
     ]
    }
   ],
   "source": [
    "import pandas as pd \n",
    "section = pd.read_csv('section.csv')\n",
    "students = pd.read_csv('students.csv')\n",
    "df = pd.merge(section, students, on='section_id')\n",
    "\n",
    "df = df.fillna(0)\n",
    "df['total_marks'] = df['nepali'] + df['english'] + df['maths'] + df['science'] + df['social']\n",
    "df['percentage'] = df['total_marks'] / 5\n",
    "# total =df['total_marks']\n",
    "# for x in total:\n",
    "#     if x>=80:\n",
    "#         print('Distinction')\n",
    "#     elif x>=60:\n",
    "#         print('First')\n",
    "#     else:\n",
    "#         print('Fail')\n",
    "\n",
    "df['division'] = df['percentage'].apply(lambda x:\n",
    "                                         'Distinction' if x >= 80 else 'First'\n",
    "                                           if x >= 60 else 'Second' if x >= 45\n",
    "                                             else 'Third' if x >= 32 else 'Fail')\n",
    "# update percentage column add % sign\n",
    "df['percentage'] = df['percentage'].apply(lambda x: str(x) + '%')\n",
    "\n",
    "# group by gender\n",
    "\n",
    "gb =df.groupby(\"gender\")\n",
    "gb.apply(lambda a: a.iloc[:2])\n",
    "\n",
    "# x =0\n",
    "\n",
    "# while x<=10:\n",
    "#     print(x)\n",
    "#     x+=2\n",
    "\n",
    "# gb.apply(lambda x: x['total_marks'].sum())\n",
    "# get specific data from group by\n",
    "\n",
    "\n",
    "# remove first row\n",
    "# gb.first(3)\n",
    "# for a in gb:\n",
    "#     print(a)\n",
    "# get index of group by\n",
    "# gb.groups\n",
    "# slice group by\n",
    "# gb.first()\n",
    "# gb.all()\n",
    "# gb.last()\n",
    "\n",
    "\n",
    "\n",
    "# df[df.groupby('gender')]\n",
    "# df[df['gender']=='male']\n",
    "# def take_number_of_data(num):\n",
    "#     return df.loc[:num]\n",
    "\n",
    "# take_number_of_data(5)\n",
    "\n",
    "# df.loc[[0,1], ['name', 'english']]\n",
    "\n",
    "# df.loc[df['name'] == 'ram', 'english'] = 90\n",
    "# df\n",
    "\n",
    "# def color(x):\n",
    "#     if x >= 80:\n",
    "#         return 'background-color: green'\n",
    "#     else:\n",
    "#         return 'background-color: red'\n",
    "# df.style.applymap(color, subset=['maths', 'english', 'nepali', 'science'])\n",
    "# apply yellow color in nepali column\n",
    "# df.style.applymap(lambda x: 'background-color: yellow', subset=['nepali'])\n",
    "# df['nepali']\n",
    "\n"
   ]
  },
  {
   "cell_type": "code",
   "execution_count": null,
   "metadata": {},
   "outputs": [],
   "source": []
  }
 ],
 "metadata": {
  "kernelspec": {
   "display_name": "Python 3",
   "language": "python",
   "name": "python3"
  },
  "language_info": {
   "codemirror_mode": {
    "name": "ipython",
    "version": 3
   },
   "file_extension": ".py",
   "mimetype": "text/x-python",
   "name": "python",
   "nbconvert_exporter": "python",
   "pygments_lexer": "ipython3",
   "version": "3.11.2"
  },
  "orig_nbformat": 4
 },
 "nbformat": 4,
 "nbformat_minor": 2
}
