{
 "cells": [
  {
   "cell_type": "code",
   "execution_count": 28,
   "metadata": {},
   "outputs": [
    {
     "data": {
      "text/plain": [
       "<bound method DataFrame.value_counts of   product_name  price quantity category\n",
       "0         dell  20000       10   laptop\n",
       "1           hp  30000       20   laptop\n",
       "2       lenovo     30      NaN      NaN\n",
       "3           mi  10000       40   mobile\n",
       "4           mi  10000       40   mobile\n",
       "5      samsung  20000       50   mobile\n",
       "6        apple  30000       60   mobile\n",
       "7         sony  40000   mobile      NaN\n",
       "8         sony  40000       70   laptop>"
      ]
     },
     "execution_count": 28,
     "metadata": {},
     "output_type": "execute_result"
    }
   ],
   "source": [
    "import pandas as pd\n",
    "\n",
    "# lp = pd.read_csv('./laptop_data.csv')\n",
    "# mb = pd.read_csv('./mobile_data.csv')\n",
    "# new_data = pd.concat([lp,mb],ignore_index=True)\n",
    "# new_data =new_data[new_data['price'] > 10000]\n",
    "# new_data\n",
    "\n",
    "\n",
    "\n",
    "# mobile_data=df[df['category']=='mobile']\n",
    "# laptop_data=df[df['category']=='laptop']\n",
    "# # save data to csv \n",
    "# mobile_data.to_csv('./mobile_data.csv',index=False)\n",
    "# laptop_data.to_csv('./laptop_data.csv',index=False)\n",
    "\n",
    "\n",
    "# df = df.dropna()# df.isnull().sum()\n",
    "# res =df.isnull()\n",
    "\n",
    "# get null data of each row and column\n",
    "# data = df.isnull().sum().sort_values(ascending=False)\n",
    "# data\n",
    "\n",
    "# show only NaN row and column data\n",
    "# df.isnull().sum()\n",
    "# df.isnull().any()\n",
    "# df.isnull().any(axis=1)\n",
    "# df[df.isnull().any(axis=1)]\n",
    "\n",
    "\n",
    "# df.columns\n",
    "# df.values\n",
    "\n",
    "\n",
    "\n",
    "\n",
    "df = pd.read_csv('./product_data.csv')\n",
    "# df.value_counts\n",
    "# add column and set value null\n",
    "# df['price'] = None\n",
    "# add column\n",
    "# df['price'] = 1000\n",
    "# df\n",
    "# drop column\n",
    "# df.drop('price',axis=1,inplace=True)\n",
    "# df\n",
    "# df.dropna(inplace=True)\n",
    "# df\n",
    "# df=df[['category','price']]\n",
    "# df\n",
    "\n",
    "\n",
    "\n"
   ]
  },
  {
   "cell_type": "code",
   "execution_count": null,
   "metadata": {},
   "outputs": [],
   "source": []
  }
 ],
 "metadata": {
  "kernelspec": {
   "display_name": "Python 3",
   "language": "python",
   "name": "python3"
  },
  "language_info": {
   "codemirror_mode": {
    "name": "ipython",
    "version": 3
   },
   "file_extension": ".py",
   "mimetype": "text/x-python",
   "name": "python",
   "nbconvert_exporter": "python",
   "pygments_lexer": "ipython3",
   "version": "3.11.2"
  },
  "orig_nbformat": 4
 },
 "nbformat": 4,
 "nbformat_minor": 2
}
