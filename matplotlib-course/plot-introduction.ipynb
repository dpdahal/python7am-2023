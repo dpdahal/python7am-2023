{
 "cells": [
  {
   "cell_type": "code",
   "execution_count": 55,
   "metadata": {},
   "outputs": [
    {
     "data": {
      "image/png": "[encoded data removed]",
      "text/plain": [
       "<Figure size 640x480 with 1 Axes>"
      ]
     },
     "metadata": {},
     "output_type": "display_data"
    }
   ],
   "source": [
    "import matplotlib.pyplot as plt\n",
    "import numpy as np\n",
    "\n",
    "x_value = np.array([1, 2, 3, 4, 5])\n",
    "y_value = np.array([1, 49, 9, 16, 25])\n",
    "\n",
    "# plt.scatter(x_value, y_value)\n",
    "# plt.show()\n",
    "\n",
    "# plt.bar(x_value, y_value)\n",
    "# plt.show()\n",
    "\n",
    "# plt.pie(y_value, labels=x_value)\n",
    "# plt.show()\n",
    "\n",
    "# subplots with 1 row and 2 columns and index 1\n",
    "# plt.subplot(1, 2, 1)\n",
    "# plt.plot(x_value, y_value)\n",
    "\n",
    "# subplots with 1 row and 2 columns and index 2\n",
    "# plt.subplot(1, 2, 2)\n",
    "# plt.plot(x_value, y_value)\n",
    "# plt.show()\n",
    "\n",
    "\n",
    "# import numpy as np\n",
    "# import matplotlib.pyplot as plt\n",
    "\n",
    "# t = np.arange(0, 10, 0.01)\n",
    "\n",
    "# ax1 = plt.subplot(211)\n",
    "# ax1.plot(t, np.sin(2*np.pi*t))\n",
    "\n",
    "# ax2 = plt.subplot(212, sharex=ax1)\n",
    "# ax2.plot(t, np.sin(4*np.pi*t))\n",
    "\n",
    "# plt.show()\n",
    "\n",
    "# plt.plot(x_value, y_value)\n",
    "# subplots with 1 row and 2 columns and index 1\n",
    "# plt.subplot(1, 2, 1)\n",
    "# plt.plot(x_value, y_value, 'o:r')\n",
    "\n",
    "\n",
    "# plt.show()\n",
    "\n",
    "# a_value = np.array([1, 2, 3, 4, 5])\n",
    "# b_value = np.array([9, 4, 9, 16, 7])\n",
    "# plt.plot(a_value, b_value)\n",
    "\n",
    "# plt.subplot(1, 2, 2)\n",
    "# plt.show()\n",
    "\n",
    "\n",
    "# plt.plot(a_value, b_value)\n",
    "# plt.show()\n",
    "\n",
    "# plt.plot(x_value, y_value,marker='*',color='red',ls='--',ms=20,mec='green',mfc='green')\n",
    "# plt.title(\"My first plot\", fontsize=20)\n",
    "# plt.xlabel(\"x-axis\", fontsize=14)\n",
    "# plt.ylabel(\"y-axis\", fontsize=14)\n",
    "# # plt.grid(color='green')\n",
    "# # remove x and y ticks\n",
    "# plt.xticks([])\n",
    "# plt.yticks([])\n",
    "# plt.show()\n"
   ]
  },
  {
   "cell_type": "code",
   "execution_count": null,
   "metadata": {},
   "outputs": [],
   "source": []
  }
 ],
 "metadata": {
  "kernelspec": {
   "display_name": "Python 3",
   "language": "python",
   "name": "python3"
  },
  "language_info": {
   "name": "python",
   "version": "3.11.2"
  },
  "orig_nbformat": 4
 },
 "nbformat": 4,
 "nbformat_minor": 2
}
