{
 "cells": [
  {
   "cell_type": "code",
   "execution_count": 1,
   "metadata": {},
   "outputs": [
    {
     "data": {
      "text/plain": [
       "(2, 2, 5)"
      ]
     },
     "execution_count": 1,
     "metadata": {},
     "output_type": "execute_result"
    }
   ],
   "source": [
    "import numpy as np \n",
    "\n",
    "\n",
    "data =np.array([\n",
    "    [\n",
    "        [1,2,3,4,5],\n",
    "        [6,7,8,9,10]],\n",
    "    [\n",
    "        [11,12,13,14,15],\n",
    "        [16,17,18,19,20]\n",
    "    ]\n",
    "])\n",
    "# np.nditer(data)\n",
    "data.shape\n",
    "\n",
    "# data =np.array([\n",
    "#     [1,2,3,4,5],\n",
    "#     [6,7,8,9,10]\n",
    "\n",
    "# ])\n",
    "\n",
    "# data = np.where(data==10)\n",
    "# data\n",
    "\n",
    "# data =np.array([1,2,3,5,6,7,8,9,10,1,2,1,280])\n",
    "# data = np.where(data>5)\n",
    "# data\n",
    "# odd = np.where(data%2==1)\n",
    "# odd\n",
    "# data = np.where(data==5)\n",
    "# data\n",
    "# data[data>5]\n",
    "# data = np.array(data)\n",
    "\n",
    "# data = np.array([[[1,2,3,4,5],[6,7,8,9,10]]])\n",
    "# for x in np.nditer(data):\n",
    "#     print(x)\n",
    "# for x in data:\n",
    "#     for a in x:\n",
    "#         print(a)    \n",
    "\n",
    "# copy, view\n",
    "\n",
    "# number = data.copy()\n",
    "# number = data.view()\n",
    "\n",
    "# data[5]=300\n",
    "# print(data)\n",
    "# print(number)\n"
   ]
  },
  {
   "cell_type": "code",
   "execution_count": null,
   "metadata": {},
   "outputs": [],
   "source": []
  }
 ],
 "metadata": {
  "kernelspec": {
   "display_name": "Python 3",
   "language": "python",
   "name": "python3"
  },
  "language_info": {
   "codemirror_mode": {
    "name": "ipython",
    "version": 3
   },
   "file_extension": ".py",
   "mimetype": "text/x-python",
   "name": "python",
   "nbconvert_exporter": "python",
   "pygments_lexer": "ipython3",
   "version": "3.11.2"
  },
  "orig_nbformat": 4
 },
 "nbformat": 4,
 "nbformat_minor": 2
}
