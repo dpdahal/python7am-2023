{
 "cells": [
  {
   "cell_type": "code",
   "execution_count": 46,
   "metadata": {},
   "outputs": [
    {
     "data": {
      "text/plain": [
       "array([ 1,  3,  7,  8, 10,  2,  4,  6, 12, 11, 56, 75])"
      ]
     },
     "execution_count": 46,
     "metadata": {},
     "output_type": "execute_result"
    }
   ],
   "source": [
    "import numpy as np\n",
    "\n",
    "# np.array\n",
    "# np.zeros\n",
    "# np.ones\n",
    "# np.arange\n",
    "# np.linspace\n",
    "# np.eye\n",
    "# np.random.rand\n",
    "\n",
    "# data = np.zeros((4, 5))\n",
    "# data\n",
    "\n",
    "# data = np.ones((4, 5))\n",
    "# data\n",
    "\n",
    "# data = np.arange(0, 20,2)\n",
    "\n",
    "# for x in data:\n",
    "#     print(x)\n",
    "\n",
    "# data = np.linspace(1,5,endpoint=False)\n",
    "# data\n",
    "\n",
    "# data = np.eye(4)\n",
    "# data\n",
    "\n",
    "# data = np.random.rand(4,5)\n",
    "# data\n",
    "\n",
    "# data =np.array([[1,2,3],[4,5,6]])\n",
    "# data.shape\n",
    "# print(type(data))\n",
    "\n",
    "# data = np.array([1,2,3,4,5])\n",
    "# data1 = np.array([6,7,8,9,10])\n",
    "# res =np.concatenate([data,data1])\n",
    "# res\n",
    "\n",
    "# data = np.array([1,5,3,7,8,9,10,2,4,6,12,11,56,75])\n",
    "\n",
    "# data = data[(data>3) & (data<10)]\n",
    "# data = data[(data==5) | (data==9)]\n",
    "# data = data[(data!=5) &  (data!=9)]\n",
    "# data\n",
    "\n",
    "data =np.array([\n",
    "    [1,2,3,4,5],\n",
    "    [6,7,8,9,10]\n",
    "])\n",
    "\n",
    "\n",
    "\n",
    "# for x in data:\n",
    "#     if x>8:\n",
    "#         print(x)\n",
    "\n",
    "\n",
    "# sort by descending order\n",
    "# res = np.sort(data)[::-1]\n",
    "# res\n",
    "\n",
    "# res = np.sort(data)\n",
    "# # sort by ascending order\n",
    "# sort by descending order\n",
    "\n",
    "\n"
   ]
  },
  {
   "cell_type": "code",
   "execution_count": null,
   "metadata": {},
   "outputs": [],
   "source": []
  }
 ],
 "metadata": {
  "kernelspec": {
   "display_name": "Python 3",
   "language": "python",
   "name": "python3"
  },
  "language_info": {
   "name": "python",
   "version": "3.11.2"
  },
  "orig_nbformat": 4
 },
 "nbformat": 4,
 "nbformat_minor": 2
}
